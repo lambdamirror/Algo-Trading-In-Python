{
 "cells": [
  {
   "cell_type": "markdown",
   "metadata": {},
   "source": [
    "# 1/ Bollinger Bands Strategy"
   ]
  },
  {
   "cell_type": "markdown",
   "metadata": {},
   "source": [
    "The first part of this notebook is to calculate Bollinger Bands and create signals (sell at the up cross and buy at the down cross)"
   ]
  },
  {
   "cell_type": "code",
   "execution_count": null,
   "metadata": {},
   "outputs": [],
   "source": [
    "import warnings\n",
    "warnings.simplefilter(\"ignore\")\n",
    "import sys, time\n",
    "from utility import timestr\n",
    "from indicators import OBVol, MACD, Williams, StochOsc, RSIfunc, Bbands, average_true_range\n",
    "from tradingpy import Backtester, Signal, SIDE\n",
    "PY3 = sys.version_info[0] == 3\n",
    "PY2 = sys.version_info[0] == 2\n",
    "if PY3: _pip = 'pip3'\n",
    "else: _pip = 'pip'\n",
    "    \n",
    "import numpy as np\n",
    "import pandas as pd\n",
    "try:\n",
    "    import matplotlib.pyplot as plt\n",
    "except:\n",
    "    print('\\tmatplotlib is missing. Please install by: \\\" {} install matplotlib \\\" '.format(_pip))\n",
    "    \n",
    "plt.rcParams.update({'font.size': 20})\n",
    "plt.rcParams.update({\"hist.bins\": 200})"
   ]
  },
  {
   "cell_type": "code",
   "execution_count": null,
   "metadata": {},
   "outputs": [],
   "source": [
    "# Read candles and ticks data from filepath\n",
    "filepath = 'data/klines/'\n",
    "symbol = 'BCHUSDT'\n",
    "kl_size = '1m'\n",
    "min_in_candle = 1\n",
    "period = 6*60\n",
    "data = pd.read_csv(filepath + \"-%s-%s.csv\" % (symbol, kl_size), index_col=0).iloc[:period]"
   ]
  },
  {
   "cell_type": "code",
   "execution_count": null,
   "metadata": {},
   "outputs": [],
   "source": [
    "# Calculate bollinger bands, plot the results\n",
    "wd, sd = 15, 2.5\n",
    "ave, bb_up, bb_down = Bbands(data['_c'], window=wd, numsd=sd)\n",
    "# up cross\n",
    "crit1 = data['_c'].shift(1) < bb_up.shift(1)\n",
    "crit2 = data['_c'] > bb_up\n",
    "up_cross = data[crit1 & crit2]\n",
    "# down cross\n",
    "crit1 = data['_c'].shift(1) > bb_down.shift(1)\n",
    "crit2 = data['_c'] < bb_down\n",
    "dn_cross = data[crit1 & crit2]\n",
    "\n",
    "data['side'] = np.zeros(data.shape[0])\n",
    "data.loc[up_cross.index, 'side'] = -1.\n",
    "data.loc[dn_cross.index, 'side'] = 1.\n",
    "\n",
    "# Plot Bollinger Bands Signals\n",
    "fig, ax = plt.subplots(1, figsize=(30, 15))\n",
    "ax.set_title('Bollinger Bands Signals', fontsize=30)\n",
    "ax.plot(data['_t'], data['_c'], label='close price', color='black')\n",
    "ax.plot(data['_t'], bb_up, label='up band', color='green')\n",
    "ax.plot(data['_t'], bb_down, label='down band', color='red')\n",
    "ax.plot(data['_t'], ave, label='ma-%d' % wd, color='grey')\n",
    "ax.scatter(up_cross['_t'], up_cross['_c'], marker='v', color='r', linewidths=7)\n",
    "ax.scatter(dn_cross['_t'], dn_cross['_c'], marker='^', color='g', linewidths=7)\n",
    "for i in range(0, data.shape[0], 30):\n",
    "    ax.axvline(x=data['_t'].iloc[i], linewidth=1, color='grey')\n",
    "ax.legend(loc=2, prop={'size': 20})"
   ]
  },
  {
   "cell_type": "markdown",
   "metadata": {},
   "source": [
    "# 2/ Backtesting the Bollinger Band signals"
   ]
  },
  {
   "cell_type": "markdown",
   "metadata": {},
   "source": [
    "This part includes 3 steps:\n",
    "\n",
    "    a) Generate Signals objects based on the predictions of RF classifier\n",
    "    b) Generate Backtester object to calculate statistics of the trading session\n",
    "    c) Plot Trades entry/exit and Equity Curve. Print out Session Summary\n",
    "\n",
    "NOTE: Re-run the whole part to verify the codes fo problems 1, 2 and 4\n"
   ]
  },
  {
   "cell_type": "markdown",
   "metadata": {},
   "source": [
    "a) Generate Signal objects"
   ]
  },
  {
   "cell_type": "code",
   "execution_count": null,
   "metadata": {},
   "outputs": [],
   "source": [
    "order_size = 100\n",
    "model_signals = []\n",
    "for i in range(data.shape[0]):\n",
    "    atr, _ = average_true_range(data.iloc[:i].copy(), period=wd, alpha=0.3, highlow=False)\n",
    "    side = data['side'].iloc[i]\n",
    "    new_sig, startTime, price = None, data['_t'].iloc[i]+60*1000, data['_c'].iloc[i]\n",
    "    expTime = startTime + 5*60*1000\n",
    "    stopLoss = atr\n",
    "    takeProfit = atr\n",
    "    if side==1.0:\n",
    "        new_sig = Signal(symbol=symbol, side='BUY', size=order_size, orderType='MARKET', positionSide='LONG', price=price, \\\n",
    "                         startTime=startTime, expTime=expTime, stopLoss=stopLoss, takeProfit=takeProfit)\n",
    "    elif side==-1.0:\n",
    "        new_sig = Signal(symbol=symbol, side='SELL', size=order_size, orderType='MARKET', positionSide='SHORT', price=price, \\\n",
    "                         startTime=startTime, expTime=expTime, stopLoss=stopLoss, takeProfit=takeProfit)\n",
    "\n",
    "    if new_sig is not None:\n",
    "        model_signals.append(new_sig)"
   ]
  },
  {
   "cell_type": "markdown",
   "metadata": {},
   "source": [
    "b) Update pricePath and check for exit_triggers()"
   ]
  },
  {
   "cell_type": "code",
   "execution_count": null,
   "metadata": {},
   "outputs": [],
   "source": [
    "# declare a Backtester object\n",
    "tradeData = pd.DataFrame()\n",
    "tradeData['_t'] = data['_t'] + min_in_candle*60*1000\n",
    "tradeData['_p'] = data['_c']\n",
    "backtest = Backtester(symbol=symbol, tradeData=tradeData, initBalance=200, orderSize=order_size, signalList=[])\n",
    "\n",
    "# interation through all the BB signals\n",
    "for sig in model_signals.copy():\n",
    "    # check if there is an open position\n",
    "    ready = False\n",
    "    if len(backtest.signalList)==0: ready = True\n",
    "    else:\n",
    "        last_trade = backtest.signalList[-1]\n",
    "        if sig.startTime > last_trade.clsTime: ready = True\n",
    "            \n",
    "    trades = tradeData[tradeData['_t']>=sig.startTime]\n",
    "    # only enter trade when ready==True\n",
    "    if ready and (trades.shape[0] > 0):\n",
    "        print('\\n----------------------')\n",
    "        print( '\\nPlace NEW order: \\n' + str(sig) )\n",
    "        sig.set_active(excTime=trades['_t'].iloc[0], excPrice=trades['_p'].iloc[0], excQty=sig.get_quantity())\n",
    "        print( '\\nSet BOOKED order ACTIVE: \\n' + str(sig) )\n",
    "        _exit = False\n",
    "        while not _exit:\n",
    "            for i in range(1, trades.shape[0]):\n",
    "                _t, _p = trades['_t'].iloc[i], trades['_p'].iloc[i]\n",
    "                sig.path_update(lastPrice=_p, lastTime=_t)\n",
    "                if (sig.exit_triggers() is not None) or (_t==trades['_t'].iloc[-1]):\n",
    "                    _exit = True\n",
    "                    sig.set_cnt_ordered(cntorderId=0, cntTime=_t, cntType='MARKET')\n",
    "                    print( '\\nPlace COUNTER order: \\n' + str(sig) )\n",
    "                    sig.set_closed(clsTime=_t, clsPrice=_p)\n",
    "                    print( '\\nSet order CLOSED: \\n' + str(sig) )\n",
    "                    break\n",
    "        backtest.add_signal(sig)\n",
    "balance = backtest.balance_update()\n"
   ]
  },
  {
   "cell_type": "markdown",
   "metadata": {},
   "source": [
    "c) Plot Trades entry/exit and Equity Curve"
   ]
  },
  {
   "cell_type": "code",
   "execution_count": null,
   "metadata": {},
   "outputs": [],
   "source": [
    "# Buy and Sell Trades from Backtester\n",
    "buy = pd.DataFrame(columns=['excTime', 'excPrice', 'clsTime', 'clsPrice'])\n",
    "sell = pd.DataFrame(columns=['excTime', 'excPrice', 'clsTime', 'clsPrice'])\n",
    "for sig in backtest.signalList:\n",
    "    if sig.side == 'BUY':\n",
    "        buy = buy.append({'excTime': sig.excTime, 'excPrice': sig.excPrice, 'clsTime': sig.clsTime, 'clsPrice': sig.clsPrice}, ignore_index=True)\n",
    "    else:\n",
    "        sell = sell.append({'excTime': sig.excTime, 'excPrice': sig.excPrice, 'clsTime': sig.clsTime, 'clsPrice': sig.clsPrice}, ignore_index=True)\n",
    "\n",
    "# Plot Trades entry/exit and Equity Curve\n",
    "fig, axs = plt.subplots(2, figsize=(30, 15))\n",
    "axs[0].set_title('Singals', fontsize=30)\n",
    "axs[0].plot(tradeData['_t'], tradeData['_p'], label='trade price', color='grey')\n",
    "axs[0].scatter(buy['excTime'], buy['excPrice'], label='BUY entry', color='green', linewidths=5)\n",
    "axs[0].scatter(buy['clsTime'], buy['clsPrice'], label='BUY exit', color='black', linewidths=5)\n",
    "axs[0].scatter(sell['excTime'], sell['excPrice'], label='SELL entry', color='red', linewidths=5)\n",
    "axs[0].scatter(sell['clsTime'], sell['clsPrice'], label='SELL exit', color='black', linewidths=5)\n",
    "for i in range(0, tradeData.shape[0], 30):\n",
    "    axs[0].axvline(x=tradeData['_t'].iloc[i], linewidth=1, color='grey')\n",
    "axs[0].legend()\n",
    "\n",
    "axs[1].set_title('Equity Curve', fontsize=30)\n",
    "axs[1].plot(balance['_t'], balance['_b'], label='equity curve', color='black')\n",
    "for i in range(0, tradeData.shape[0], 30):\n",
    "    axs[1].axvline(x=tradeData['_t'].iloc[i], linewidth=1, color='grey')\n",
    "axs[1].legend()\n",
    "\n",
    "backtest.summary()\n"
   ]
  },
  {
   "cell_type": "code",
   "execution_count": null,
   "metadata": {},
   "outputs": [],
   "source": [
    "### PROBLEM 3 : INSERT this block to combine 2.a and 2.b ###"
   ]
  }
 ],
 "metadata": {
  "kernelspec": {
   "display_name": "Python 3",
   "language": "python",
   "name": "python3"
  },
  "language_info": {
   "codemirror_mode": {
    "name": "ipython",
    "version": 3
   },
   "file_extension": ".py",
   "mimetype": "text/x-python",
   "name": "python",
   "nbconvert_exporter": "python",
   "pygments_lexer": "ipython3",
   "version": "3.7.5"
  }
 },
 "nbformat": 4,
 "nbformat_minor": 4
}
